{
  "nbformat": 4,
  "nbformat_minor": 0,
  "metadata": {
    "colab": {
      "name": "create-markdown-in-jupyter.ipynb",
      "provenance": [],
      "authorship_tag": "ABX9TyOjcGnkpJ//7w+VyRu+59aZ",
      "include_colab_link": true
    },
    "kernelspec": {
      "name": "python3",
      "display_name": "Python 3"
    },
    "language_info": {
      "name": "python"
    }
  },
  "cells": [
    {
      "cell_type": "markdown",
      "metadata": {
        "id": "view-in-github",
        "colab_type": "text"
      },
      "source": [
        "<a href=\"https://colab.research.google.com/github/Maytch/technical-discussion/blob/main/create_markdown_in_jupyter.ipynb\" target=\"_parent\"><img src=\"https://colab.research.google.com/assets/colab-badge.svg\" alt=\"Open In Colab\"/></a>"
      ]
    },
    {
      "cell_type": "markdown",
      "metadata": {
        "id": "CChuRoxn3M8S"
      },
      "source": [
        "# Create Markdown in Jupyter"
      ]
    },
    {
      "cell_type": "code",
      "metadata": {
        "colab": {
          "base_uri": "https://localhost:8080/"
        },
        "id": "hGjhQxP-3H7U",
        "outputId": "c863449c-59d4-4b1e-8606-203de3f65b5a"
      },
      "source": [
        "print(\"hello world\")"
      ],
      "execution_count": 1,
      "outputs": [
        {
          "output_type": "stream",
          "name": "stdout",
          "text": [
            "hello world\n"
          ]
        }
      ]
    },
    {
      "cell_type": "markdown",
      "metadata": {
        "id": "XLXFgdyk3hVi"
      },
      "source": [
        "Making **bold** or *italic* text here. Include [links](https://google.com).\n",
        "\n",
        "## Having h2 tags\n",
        "### Having h3 tags\n",
        "###### Having h6 tags\n",
        "\n",
        "* Lists\n",
        "\n",
        "1. Numbered Lists\n",
        "\n",
        "`Quotes`\n",
        "\n",
        "```Code code = new Code()```\n",
        "\n",
        "- [x] Using Checkboxes\n",
        "- [ ] Not Using Checkboxes"
      ]
    }
  ]
}